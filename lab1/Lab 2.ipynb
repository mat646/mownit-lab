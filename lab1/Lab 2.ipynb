{
 "cells": [
  {
   "cell_type": "code",
   "execution_count": 1,
   "metadata": {},
   "outputs": [
    {
     "data": {
      "text/plain": [
       "solve! (generic function with 1 method)"
      ]
     },
     "execution_count": 1,
     "metadata": {},
     "output_type": "execute_result"
    }
   ],
   "source": [
    "function gauss!(n, A, x)\n",
    "    for i = 1:n\n",
    "        for j = 1:n\n",
    "            if i < j \n",
    "                c = A[j,i]/A[i,i]\n",
    "                A[j,:] -= c*A[i,:]\n",
    "                x[j] -= c*x[i]\n",
    "                x[i] = x[i]/A[i,i]\n",
    "                A[i,:] = A[i,:]/A[i,i]\n",
    "            end\n",
    "        end\n",
    "    end\n",
    "end\n",
    "\n",
    "function solve!(n, A, x)\n",
    "    for i = 1:n\n",
    "        for j = 1:n\n",
    "        end\n",
    "    end\n",
    "end"
   ]
  },
  {
   "cell_type": "code",
   "execution_count": 2,
   "metadata": {},
   "outputs": [
    {
     "data": {
      "text/plain": [
       "5×5 Array{Float32,2}:\n",
       " 9.93041e-8  6.53121e-8  6.80022e-8  2.52966e-8  4.04019e-8\n",
       " 0.0929081   0.881446    0.917737    0.792898    0.247057  \n",
       " 0.124617    0.781955    0.574503    0.209896    0.888165  \n",
       " 0.231781    0.786086    0.899047    0.750628    0.281208  \n",
       " 0.145662    0.890735    0.356895    0.227608    0.144266  "
      ]
     },
     "metadata": {},
     "output_type": "display_data"
    },
    {
     "data": {
      "text/plain": [
       "5×5 Array{Float32,2}:\n",
       "  1.0   0.657698   0.684787  0.254739   0.40685 \n",
       "  0.0   1.0        1.04117   0.937697   0.255086\n",
       " -0.0  -0.0        1.0       1.99557   -2.74949 \n",
       " -0.0  -0.0       -0.0       1.0       -3.89299 \n",
       "  0.0   0.0        0.0       0.0        0.585537"
      ]
     },
     "metadata": {},
     "output_type": "display_data"
    },
    {
     "data": {
      "text/plain": [
       "5-element Array{Float32,1}:\n",
       " -5.871347e6 \n",
       " -3.81664e6  \n",
       "  4.5286492e7\n",
       " -4.281482e7 \n",
       " -1.4990976e7"
      ]
     },
     "metadata": {},
     "output_type": "display_data"
    },
    {
     "data": {
      "text/plain": [
       "5-element Array{Float32,1}:\n",
       " -1.2775251\n",
       "  1.0116581\n",
       "  5.659974 \n",
       " -6.1294136\n",
       " -2.5361629"
      ]
     },
     "metadata": {},
     "output_type": "display_data"
    }
   ],
   "source": [
    "n = 5\n",
    "A = rand(Float32, 5,5) \n",
    "x = rand(Float32, 5)\n",
    "\n",
    "\n",
    "proper_solved = A\\x\n",
    "\n",
    "\n",
    "A[1, :] *= eps(Float32)\n",
    "\n",
    "display(A)\n",
    "\n",
    "gauss!(n, A, x)\n",
    "\n",
    "display(A)\n",
    "\n",
    "solved = A\\x\n",
    "\n",
    "display(solved)\n",
    "\n",
    "display(proper_solved)"
   ]
  },
  {
   "cell_type": "code",
   "execution_count": null,
   "metadata": {},
   "outputs": [],
   "source": []
  }
 ],
 "metadata": {
  "kernelspec": {
   "display_name": "Julia 1.0.1",
   "language": "julia",
   "name": "julia-1.0"
  },
  "language_info": {
   "file_extension": ".jl",
   "mimetype": "application/julia",
   "name": "julia",
   "version": "1.0.1"
  }
 },
 "nbformat": 4,
 "nbformat_minor": 2
}
