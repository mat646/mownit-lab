{
 "cells": [
  {
   "cell_type": "markdown",
   "metadata": {},
   "source": [
    "# Mownit - lab 1 - task 5"
   ]
  },
  {
   "cell_type": "markdown",
   "metadata": {},
   "source": [
    "### Single precision"
   ]
  },
  {
   "cell_type": "code",
   "execution_count": 6,
   "metadata": {
    "scrolled": false
   },
   "outputs": [
    {
     "ename": "BoundsError",
     "evalue": "BoundsError: attempt to access 4100-element Array{Float64,1} at index [1:5000]",
     "output_type": "error",
     "traceback": [
      "BoundsError: attempt to access 4100-element Array{Float64,1} at index [1:5000]",
      "",
      "Stacktrace:",
      " [1] throw_boundserror(::Array{Float64,1}, ::Tuple{UnitRange{Int64}}) at ./abstractarray.jl:484",
      " [2] checkbounds at ./abstractarray.jl:449 [inlined]",
      " [3] getindex(::Array{Float64,1}, ::UnitRange{Int64}) at ./array.jl:737",
      " [4] gr_display(::Plots.Subplot{Plots.GRBackend}, ::Measures.Length{:mm,Float64}, ::Measures.Length{:mm,Float64}, ::Array{Float64,1}) at /home/mateusz/.julia/packages/Plots/rmogG/src/backends/gr.jl:994",
      " [5] gr_display(::Plots.Plot{Plots.GRBackend}, ::String) at /home/mateusz/.julia/packages/Plots/rmogG/src/backends/gr.jl:526",
      " [6] _show(::Base.GenericIOBuffer{Array{UInt8,1}}, ::MIME{Symbol(\"image/svg+xml\")}, ::Plots.Plot{Plots.GRBackend}) at /home/mateusz/.julia/packages/Plots/rmogG/src/backends/gr.jl:1358",
      " [7] show(::Base.GenericIOBuffer{Array{UInt8,1}}, ::MIME{Symbol(\"image/svg+xml\")}, ::Plots.Plot{Plots.GRBackend}) at /home/mateusz/.julia/packages/Plots/rmogG/src/output.jl:201",
      " [8] #sprint#325(::Nothing, ::Int64, ::Function, ::Function, ::MIME{Symbol(\"image/svg+xml\")}, ::Vararg{Any,N} where N) at ./strings/io.jl:101",
      " [9] sprint(::Function, ::MIME{Symbol(\"image/svg+xml\")}, ::Vararg{Any,N} where N) at ./strings/io.jl:97",
      " [10] display_dict(::Plots.Plot{Plots.GRBackend}) at /home/mateusz/.julia/packages/Plots/rmogG/src/init.jl:73",
      " [11] #invokelatest#1 at ./essentials.jl:697 [inlined]",
      " [12] invokelatest at ./essentials.jl:696 [inlined]",
      " [13] execute_request(::ZMQ.Socket, ::IJulia.Msg) at /home/mateusz/.julia/packages/IJulia/0cLgR/src/execute_request.jl:256",
      " [14] #invokelatest#1 at ./essentials.jl:697 [inlined]",
      " [15] invokelatest at ./essentials.jl:696 [inlined]",
      " [16] eventloop(::ZMQ.Socket) at /home/mateusz/.julia/packages/IJulia/0cLgR/src/eventloop.jl:8",
      " [17] (::getfield(IJulia, Symbol(\"##12#15\")))() at ./task.jl:259"
     ]
    }
   ],
   "source": [
    "using Gadfly\n",
    "\n",
    "task5(x0, r, n) = if n == 0\n",
    "        return x0\n",
    "    else\n",
    "        xn = task5(x0, r, n - 1)\n",
    "        return r * xn * (1 - xn)\n",
    "    end\n",
    "\n",
    "matrix = zeros(Float32, 50, 100)\n",
    "x = []\n",
    "\n",
    "for i = 0:0.1:4\n",
    "    x = vcat(x, fill(i, 100))\n",
    "    for j = 1:100\n",
    "        matrix[floor(Int, i*10+1),j] = task5(0.6, i, 100+j)\n",
    "    end\n",
    "end\n",
    "\n",
    "printsize(x)\n",
    "\n",
    "#plot(x, vec(matrix'))\n",
    "\n",
    "#scatter(x,vec(matrix'),title=\"Bifurcation\", xlabel = \"my label\")\n",
    "\n"
   ]
  },
  {
   "cell_type": "markdown",
   "metadata": {},
   "source": [
    "### Double precision"
   ]
  },
  {
   "cell_type": "code",
   "execution_count": 3,
   "metadata": {},
   "outputs": [],
   "source": [
    "using Plots\n",
    "\n",
    "task5(x0, r, n) = if n == 0\n",
    "        return x0\n",
    "    else\n",
    "        xn = task5(x0, r, n - 1)\n",
    "        return r * xn * (1 - xn)\n",
    "    end\n",
    "\n",
    "matrix = zeros(Float64, 50, 100)\n",
    "x = []\n",
    "\n",
    "for i = 0:0.1:4\n",
    "    x = vcat(x, fill(i, 100))\n",
    "    for j = 1:100\n",
    "        matrix[floor(Int, i*10+1),j] = task5(0.6, i, 100+j)\n",
    "    end\n",
    "end\n",
    "\n",
    "\n",
    "#scatter(x,vec(matrix'),title=\"Bifurcation\", xlabel = \"my label\")\n",
    "\n"
   ]
  },
  {
   "cell_type": "code",
   "execution_count": null,
   "metadata": {},
   "outputs": [],
   "source": []
  }
 ],
 "metadata": {
  "kernelspec": {
   "display_name": "Julia 1.0.1",
   "language": "julia",
   "name": "julia-1.0"
  },
  "language_info": {
   "file_extension": ".jl",
   "mimetype": "application/julia",
   "name": "julia",
   "version": "1.0.1"
  }
 },
 "nbformat": 4,
 "nbformat_minor": 2
}
