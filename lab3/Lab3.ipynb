{
 "cells": [
  {
   "cell_type": "markdown",
   "metadata": {},
   "source": [
    "# Zestaw 3"
   ]
  },
  {
   "cell_type": "code",
   "execution_count": 55,
   "metadata": {},
   "outputs": [
    {
     "data": {
      "text/plain": [
       "(-10.0, 10.0)"
      ]
     },
     "execution_count": 55,
     "metadata": {},
     "output_type": "execute_result"
    }
   ],
   "source": [
    "e = Base.MathConstants.e\n",
    "pie = Float64(pi)\n",
    "\n",
    "f(x::Float64) = x^2 - 2.71*x + 1\n",
    "range_f = (-10.0, 10.0)\n",
    "g(x::Float64) = sin(x - pie/2) * e^(-x*sin(x))\n",
    "range_g = (-3.0, 3.0)\n",
    "h(x::Float64) = sec(x)^2-1\n",
    "range_h = (-pie/2, pie/2)\n",
    "k(x::Float64) = 2 + 0.5*cos(x)-x/3\n",
    "range_k = (-10.0, 10.0)"
   ]
  },
  {
   "cell_type": "code",
   "execution_count": 3,
   "metadata": {},
   "outputs": [
    {
     "data": {
      "text/plain": [
       "dk (generic function with 1 method)"
      ]
     },
     "execution_count": 3,
     "metadata": {},
     "output_type": "execute_result"
    }
   ],
   "source": [
    "# differentials\n",
    "\n",
    "df(x::Float64) = 2*x - 2.71\n",
    "dg(x::Float64) = e^(-x * sin(x)) * (x * cos^2(x) + sin(x) + cos(x) * sin(x))\n",
    "dh(x::Float64) = 2 * sec^2(x) * tan(x)\n",
    "dk(x::Float64) = -1/3 - 0.5 * sin(x)"
   ]
  },
  {
   "cell_type": "code",
   "execution_count": 63,
   "metadata": {},
   "outputs": [
    {
     "data": {
      "text/plain": [
       "bisection (generic function with 5 methods)"
      ]
     },
     "execution_count": 63,
     "metadata": {},
     "output_type": "execute_result"
    }
   ],
   "source": [
    "# Zadanie 1\n",
    "\n",
    "function bisection(fun::Function, (a, b)::Tuple{Float64,Float64}, step::Int, max_step::Int, eps::Float64)\n",
    "    \n",
    "    mid = (a+b)/2\n",
    "    \n",
    "    if abs(a-b) < eps\n",
    "        if fun(a)*fun(b) <= 0\n",
    "            return [mid]\n",
    "        else\n",
    "            return []\n",
    "        end\n",
    "    end\n",
    "    \n",
    "    ret = []\n",
    "    ret = bisection(fun, (a,mid), step+1, max_step, eps)\n",
    "    ret = vcat(ret, bisection(fun, (mid,b), step+1, max_step, eps))\n",
    "    \n",
    "    return ret  \n",
    "end"
   ]
  },
  {
   "cell_type": "code",
   "execution_count": 64,
   "metadata": {
    "scrolled": false
   },
   "outputs": [
    {
     "data": {
      "text/plain": [
       "2-element Array{Any,1}:\n",
       " 0.4443359375\n",
       " 2.2705078125"
      ]
     },
     "metadata": {},
     "output_type": "display_data"
    },
    {
     "data": {
      "text/plain": [
       "2-element Array{Any,1}:\n",
       " -1.5732421875\n",
       "  1.5732421875"
      ]
     },
     "metadata": {},
     "output_type": "display_data"
    },
    {
     "data": {
      "text/plain": [
       "2-element Array{Any,1}:\n",
       " -0.0030679615757712823\n",
       "  0.0030679615757712823"
      ]
     },
     "metadata": {},
     "output_type": "display_data"
    },
    {
     "data": {
      "text/plain": [
       "1-element Array{Any,1}:\n",
       " 7.0654296875"
      ]
     },
     "metadata": {},
     "output_type": "display_data"
    }
   ],
   "source": [
    "d(v) = display(v)\n",
    "\n",
    "d(bisection(f, range_f, 0, 300, 0.01))\n",
    "d(bisection(g, range_g, 0, 300, 0.01))\n",
    "d(bisection(h, range_h, 0, 300, 0.01))\n",
    "d(bisection(k, range_k, 0, 300, 0.01))"
   ]
  },
  {
   "cell_type": "code",
   "execution_count": 95,
   "metadata": {},
   "outputs": [
    {
     "ename": "UndefVarError",
     "evalue": "UndefVarError: Float23 not defined",
     "output_type": "error",
     "traceback": [
      "UndefVarError: Float23 not defined",
      "",
      "Stacktrace:",
      " [1] top-level scope at In[95]:1"
     ]
    }
   ],
   "source": [
    "# Zadanie 2\n",
    "\n",
    "function falsid(fun::Function, (a, b)::Tuple{Float64,Float64}, mid::Float23, step::Int, max_step::Int, eps::Float64)\n",
    "    \n",
    "    println(1)\n",
    "    \n",
    "    if (fun(a)*fun(mid) >= 0)\n",
    "        mid1 = (mid*fun(a) - a*fun(mid))/(fun(a)-fun(mid))\n",
    "    elseif (fun(b)*fun(mid) < 0)\n",
    "        mid1 = (mid*fun(b) - b*fun(mid))/(fun(b)-fun(mid))\n",
    "    end\n",
    "    \n",
    "    if(step >= max_step)\n",
    "        return []\n",
    "    end\n",
    "    \n",
    "    if abs(a-b) < eps\n",
    "        if fun(a)*fun(b) <= 0\n",
    "            return [mid1]\n",
    "        else\n",
    "            return []\n",
    "        end\n",
    "    end\n",
    "    \n",
    "    println(1)\n",
    "    \n",
    "    ret = []\n",
    "    ret = falsid(fun, (a,mid1), mid1, step+1, max_step, eps)\n",
    "    ret = vcat(ret, falsid(fun, (mid1,b), mid1, step+1, max_step, eps))\n",
    "    \n",
    "    return ret  \n",
    "end\n"
   ]
  },
  {
   "cell_type": "code",
   "execution_count": 96,
   "metadata": {},
   "outputs": [
    {
     "data": {
      "text/plain": [
       "37.26937269372694"
      ]
     },
     "execution_count": 96,
     "metadata": {},
     "output_type": "execute_result"
    }
   ],
   "source": [
    "m = (range_f[1]*f(range_f[2]) - range_f[2]*f(range_f[1]))/(f(range_f[2])-f(range_f[1]))"
   ]
  },
  {
   "cell_type": "code",
   "execution_count": 97,
   "metadata": {},
   "outputs": [
    {
     "ename": "MethodError",
     "evalue": "MethodError: no method matching falsid(::typeof(f), ::Tuple{Float64,Float64}, ::Float64, ::Int64, ::Int64, ::Float64)",
     "output_type": "error",
     "traceback": [
      "MethodError: no method matching falsid(::typeof(f), ::Tuple{Float64,Float64}, ::Float64, ::Int64, ::Int64, ::Float64)",
      "",
      "Stacktrace:",
      " [1] top-level scope at In[97]:1"
     ]
    }
   ],
   "source": [
    "\n",
    "falsid(f, range_f, m, 0, 30, 0.01)\n",
    "#d(falsi(g, range_g, 0, 30, 0.01))\n",
    "#d(falsi(h, range_h, 0, 300, 0.01))\n",
    "#d(falsi(k, range_k, 0, 30, 0.01))"
   ]
  },
  {
   "cell_type": "code",
   "execution_count": 2,
   "metadata": {},
   "outputs": [
    {
     "data": {
      "text/plain": [
       "newton (generic function with 1 method)"
      ]
     },
     "execution_count": 2,
     "metadata": {},
     "output_type": "execute_result"
    }
   ],
   "source": [
    "# Zadanie 3   // trzeba znac wartosci pochodnych\n",
    "\n",
    "function newton(f::Function, df::Function, (a, b)::Tuple{Float64,Float64}, step::Int, max_step::Int, eps::Float64)\n",
    "        \n",
    "    xk = a - f(a)*df(a)\n",
    "    \n",
    "    \n",
    "    \n",
    "end"
   ]
  },
  {
   "cell_type": "code",
   "execution_count": 4,
   "metadata": {},
   "outputs": [
    {
     "data": {
      "text/plain": [
       "secant (generic function with 1 method)"
      ]
     },
     "execution_count": 4,
     "metadata": {},
     "output_type": "execute_result"
    }
   ],
   "source": [
    "# Zadanie 4\n",
    "\n",
    "function secant(f::Function, (a, b), step::Int, max_step::Int, eps::Float32)\n",
    "    \n",
    "    if abs(a-b) < eps\n",
    "        if fun(a)*fun(b) <= 0\n",
    "            return [mid1]\n",
    "        end\n",
    "    end\n",
    "    \n",
    "    if step >= max_step\n",
    "        return []\n",
    "    end\n",
    "    \n",
    "    c = b - (f(b)*(b - a))/(f(b)-f(a))\n",
    "    \n",
    "    secant(f, (b, c), step+1, max_step, eps)\n",
    "    \n",
    "end"
   ]
  },
  {
   "cell_type": "code",
   "execution_count": null,
   "metadata": {},
   "outputs": [],
   "source": []
  },
  {
   "cell_type": "code",
   "execution_count": null,
   "metadata": {},
   "outputs": [],
   "source": [
    "# Zadanie 5\n",
    "\n"
   ]
  }
 ],
 "metadata": {
  "kernelspec": {
   "display_name": "Julia 1.0.1",
   "language": "julia",
   "name": "julia-1.0"
  },
  "language_info": {
   "file_extension": ".jl",
   "mimetype": "application/julia",
   "name": "julia",
   "version": "1.0.1"
  }
 },
 "nbformat": 4,
 "nbformat_minor": 2
}
