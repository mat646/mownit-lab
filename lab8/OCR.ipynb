{
 "cells": [
  {
   "cell_type": "markdown",
   "metadata": {},
   "source": [
    "# OCR with CNN"
   ]
  },
  {
   "cell_type": "markdown",
   "metadata": {},
   "source": [
    "OCR with own convolution and Flux neural network"
   ]
  },
  {
   "cell_type": "markdown",
   "metadata": {},
   "source": [
    "## Dependencies"
   ]
  },
  {
   "cell_type": "code",
   "execution_count": 1,
   "metadata": {},
   "outputs": [],
   "source": [
    "using DSP\n",
    "using ImageView\n",
    "using Flux\n",
    "using Images\n",
    "using MLDatasets\n",
    "using Statistics\n",
    "using FFTW"
   ]
  },
  {
   "cell_type": "markdown",
   "metadata": {},
   "source": [
    "## Convolution"
   ]
  },
  {
   "cell_type": "markdown",
   "metadata": {},
   "source": [
    "![eq](https://i.ibb.co/BBBTg6y/eq.png)\n",
    "\n",
    "$$ a = \\begin{bmatrix} \n",
    "       a_{0}  \\\\\n",
    "       a_{1}  \\\\\n",
    "        ...   \\\\\n",
    "        a_{n-2} \\\\\n",
    "        a_{n-1}\n",
    "     \\end{bmatrix} $$\n",
    "     \n",
    " $$ \\hat{a} = \\begin{bmatrix} \n",
    "       a_{0}  \\\\\n",
    "       a_{1}  \\\\\n",
    "        ...   \\\\\n",
    "        a_{n-1} \\\\\n",
    "        0 \\\\\n",
    "        ... \\\\\n",
    "        0 \\\\\n",
    "     \\end{bmatrix} $$\n",
    "\n",
    "\n",
    "\n",
    "where   *F*   is Fourier matrix\n"
   ]
  },
  {
   "cell_type": "markdown",
   "metadata": {},
   "source": [
    "Before convolution  \n",
    "\n",
    "![first](https://i.ibb.co/vqMhS38/Selection-002.png)\n",
    "\n",
    "After applying Sobel and emboss filters\n",
    "\n",
    "![second](https://i.ibb.co/WP99t1j/Selection-005.png)"
   ]
  },
  {
   "cell_type": "code",
   "execution_count": 2,
   "metadata": {},
   "outputs": [
    {
     "data": {
      "text/plain": [
       "my_conv2 (generic function with 1 method)"
      ]
     },
     "execution_count": 2,
     "metadata": {},
     "output_type": "execute_result"
    }
   ],
   "source": [
    "function my_conv2(A::StridedMatrix{T}, B::StridedMatrix{T}) where T #implementation from docs\n",
    "    sa, sb = size(A), size(B)\n",
    "    At = zeros(T, sa[1]+sb[1]-1, sa[2]+sb[2]-1)\n",
    "    Bt = zeros(T, sa[1]+sb[1]-1, sa[2]+sb[2]-1)\n",
    "    At[1:sa[1], 1:sa[2]] = A\n",
    "    Bt[1:sb[1], 1:sb[2]] = B\n",
    "    p = plan_fft(At)\n",
    "    C = ifft((p*At).*(p*Bt))\n",
    "    if T <: Real\n",
    "        return real(C)\n",
    "    end\n",
    "    return C\n",
    "end"
   ]
  },
  {
   "cell_type": "code",
   "execution_count": 3,
   "metadata": {},
   "outputs": [
    {
     "data": {
      "text/plain": [
       "my_meanpool (generic function with 1 method)"
      ]
     },
     "execution_count": 3,
     "metadata": {},
     "output_type": "execute_result"
    }
   ],
   "source": [
    "function my_meanpool(A::AbstractArray, chunk_size::Int)::Array{Float64, 2}\n",
    "    s = size(A)\n",
    "    result = zeros(convert(Int,floor(s[1]/chunk_size)), convert(Int, floor(s[2]/chunk_size)))\n",
    "    for i=1:size(result)[1]\n",
    "        for j=1:size(result)[2]\n",
    "            q1 = (i-1)*chunk_size+1\n",
    "            q2 = (i-1)*chunk_size + chunk_size\n",
    "            q3 = (j-1)*chunk_size+1\n",
    "            q4 = (j-1)*chunk_size + chunk_size\n",
    "            result[i,j] = mean(A[q1:q2,q3:q4])\n",
    "        end\n",
    "    end\n",
    "    return result\n",
    "end"
   ]
  },
  {
   "cell_type": "code",
   "execution_count": 4,
   "metadata": {},
   "outputs": [
    {
     "data": {
      "text/plain": [
       "convolution (generic function with 2 methods)"
      ]
     },
     "execution_count": 4,
     "metadata": {},
     "output_type": "execute_result"
    }
   ],
   "source": [
    "function convolution(mat::AbstractArray, pool_ker::Int = 2)::AbstractArray\n",
    "    \n",
    "    # appyling convolution (no relu)\n",
    "    mat_emb = conv2(Emboss, mat)\n",
    "    mat_sob = conv2(Sobel, mat)\n",
    "    mat_compl = vcat(mat_emb, mat_sob)\n",
    "    \n",
    "    # pooling\n",
    "    mat_pooled = my_meanpool(mat_compl, pool_ker)\n",
    "    \n",
    "    return mat_pooled\n",
    "end"
   ]
  },
  {
   "cell_type": "markdown",
   "metadata": {},
   "source": [
    "### Convolution kernels"
   ]
  },
  {
   "cell_type": "code",
   "execution_count": 5,
   "metadata": {},
   "outputs": [
    {
     "data": {
      "text/plain": [
       "3×3 Array{Float64,2}:\n",
       "  1.0   2.0   1.0\n",
       "  0.0   0.0   0.0\n",
       " -1.0  -2.0  -1.0"
      ]
     },
     "execution_count": 5,
     "metadata": {},
     "output_type": "execute_result"
    }
   ],
   "source": [
    "Sharp = [0.0 -1.0 0.0; -1.0 5.0 -1.0; 0.0 -1.0 0.0]\n",
    "\n",
    "Edge = [-1.0 -1.0 -1.0; -1.0 8.0 -1.0; -1.0 -1.0 -1.0]\n",
    "\n",
    "Emboss = [-2.0 -1.0 0.0; -1.0 1.0 1.0; 0.0 1.0 2.0]\n",
    "\n",
    "Sobel = [1.0 2.0 1.0; 0.0 0.0 0.0; -1.0 -2.0 -1.0]"
   ]
  },
  {
   "cell_type": "markdown",
   "metadata": {},
   "source": [
    "## Data"
   ]
  },
  {
   "cell_type": "markdown",
   "metadata": {},
   "source": [
    "Basic example of convolution need in dimention reduction.\n",
    "\n",
    "Full image (28x28)\n",
    "\n",
    "![first](https://i.ibb.co/vqMhS38/Selection-002.png)\n",
    "\n",
    "After dimension reduction\n",
    "\n",
    "![second](https://i.ibb.co/HDnZK2q/Selection-003.png)\n",
    "\n",
    "The circle below is unrecognisable.\n",
    "\n",
    "Convolution applied with same pooling\n",
    "\n",
    "![third](https://i.ibb.co/hZsZ2GS/Selection-004.png)\n",
    "\n",
    "Size (15x30)"
   ]
  },
  {
   "cell_type": "code",
   "execution_count": 7,
   "metadata": {
    "scrolled": false
   },
   "outputs": [
    {
     "data": {
      "text/plain": [
       "get_test (generic function with 1 method)"
      ]
     },
     "execution_count": 7,
     "metadata": {},
     "output_type": "execute_result"
    }
   ],
   "source": [
    "function get_minst(index::Int)::AbstractArray\n",
    "    \n",
    "    a = MNIST.traintensor(index)\n",
    "    a = convert(Array{Float64,2}, a)\n",
    "    a = a'\n",
    "    a = convert(Array{Float64,2}, a)\n",
    "    return a\n",
    "end\n",
    "\n",
    "function get_test(index::Int)::AbstractArray\n",
    "    \n",
    "    a = MNIST.testtensor(index)\n",
    "    a = convert(Array{Float64,2}, a)\n",
    "    a = a'\n",
    "    a = convert(Array{Float64,2}, a)\n",
    "    return a\n",
    "end"
   ]
  },
  {
   "cell_type": "code",
   "execution_count": 159,
   "metadata": {},
   "outputs": [],
   "source": [
    "imshow(get_test(82));"
   ]
  },
  {
   "cell_type": "code",
   "execution_count": 139,
   "metadata": {},
   "outputs": [],
   "source": [
    "imshow(my_meanpool(get_test(82), 3));"
   ]
  },
  {
   "cell_type": "code",
   "execution_count": 160,
   "metadata": {
    "scrolled": true
   },
   "outputs": [],
   "source": [
    "example = convolution(get_test(82), 3)\n",
    "imshow(example);"
   ]
  },
  {
   "cell_type": "code",
   "execution_count": 151,
   "metadata": {},
   "outputs": [],
   "source": [
    "my_data = []\n",
    "\n",
    "for i=1:1000\n",
    "    mnist = get_minst(i)\n",
    "    c = convolution(mnist)\n",
    "    label = zeros(10)\n",
    "    label[MNIST.trainlabels(i)+1] = 1\n",
    "    push!(my_data, (vec(c), label)) \n",
    "end"
   ]
  },
  {
   "cell_type": "markdown",
   "metadata": {},
   "source": [
    "## Neural Network"
   ]
  },
  {
   "cell_type": "code",
   "execution_count": 152,
   "metadata": {},
   "outputs": [],
   "source": [
    "# defining model\n",
    "chain = Chain(Dense(450,10), softmax)\n",
    "loss(x, y) = Flux.mse(chain(x), y)\n",
    "opt = SGD(params(chain))\n",
    "\n",
    "# learning\n",
    "for i=1:1000\n",
    "    Flux.train!(loss, my_data, opt)\n",
    "end"
   ]
  },
  {
   "cell_type": "code",
   "execution_count": 157,
   "metadata": {
    "scrolled": true
   },
   "outputs": [
    {
     "data": {
      "text/plain": [
       "Tracked 10-element Array{Float64,1}:\n",
       " 0.0003227535409099724 \n",
       " 2.2447519860957771e-10\n",
       " 3.532314616955245e-7  \n",
       " 4.874306093847925e-6  \n",
       " 7.280765383988794e-8  \n",
       " 0.006814624845830757  \n",
       " 0.9928553416917468    \n",
       " 1.8223463821808493e-14\n",
       " 1.9573360682013993e-6 \n",
       " 2.2015741465956285e-8 "
      ]
     },
     "execution_count": 157,
     "metadata": {},
     "output_type": "execute_result"
    }
   ],
   "source": [
    "# random try\n",
    "digit = get_test(51) #index starts at 0, e.g.: 51 40 49 101\n",
    "conv_digit = convolution(digit)\n",
    "imshow(conv_digit)\n",
    "chain(vec(conv_digit))"
   ]
  },
  {
   "cell_type": "code",
   "execution_count": 158,
   "metadata": {},
   "outputs": [
    {
     "data": {
      "text/plain": [
       "6"
      ]
     },
     "execution_count": 158,
     "metadata": {},
     "output_type": "execute_result"
    }
   ],
   "source": [
    "MNIST.testlabels(51)"
   ]
  },
  {
   "cell_type": "markdown",
   "metadata": {},
   "source": [
    "## On test set"
   ]
  },
  {
   "cell_type": "code",
   "execution_count": 156,
   "metadata": {},
   "outputs": [
    {
     "name": "stdout",
     "output_type": "stream",
     "text": [
      "Success rate is: 82.4%\n"
     ]
    }
   ],
   "source": [
    "guessed = 0\n",
    "\n",
    "for i=1:1000\n",
    "    test_img = get_test(i)\n",
    "    conv_img = convolution(test_img)\n",
    "    res = chain(vec(conv_img))\n",
    "\n",
    "    A_max = maximum(res)\n",
    "    idx = findfirst(a->a==A_max, res)\n",
    "    if MNIST.testlabels(i) == idx-1\n",
    "        guessed += 1\n",
    "    end\n",
    "end\n",
    "\n",
    "println(\"Success rate is: \", guessed/10, \"%\")"
   ]
  }
 ],
 "metadata": {
  "kernelspec": {
   "display_name": "Julia 1.0.3",
   "language": "julia",
   "name": "julia-1.0"
  },
  "language_info": {
   "file_extension": ".jl",
   "mimetype": "application/julia",
   "name": "julia",
   "version": "1.0.3"
  }
 },
 "nbformat": 4,
 "nbformat_minor": 2
}
